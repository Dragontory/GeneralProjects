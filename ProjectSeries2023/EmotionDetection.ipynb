{
 "cells": [
  {
   "cell_type": "code",
   "execution_count": null,
   "metadata": {},
   "outputs": [],
   "source": [
    "!unzip /content/challenges-in-representation-learning-facial-expression-recognition-challenge.zip"
   ]
  },
  {
   "cell_type": "code",
   "execution_count": null,
   "metadata": {},
   "outputs": [],
   "source": [
    "import torch\n",
    "from torch import nn, save, load\n",
    "from torch.optim import Adam\n",
    "import torchvision\n",
    "from torchvision import transforms"
   ]
  },
  {
   "cell_type": "code",
   "execution_count": null,
   "metadata": {},
   "outputs": [],
   "source": [
    "#this is for data preprocessing and loading with train data\n",
    "def train_pl():\n",
    "    #the transformation we will apply to the images from the FER2013 dataset\n",
    "    transform = transforms.Compose([\n",
    "        transforms.Grayscale(),\n",
    "        transforms.ToTensor(), # Convert image to tensor\n",
    "        transforms.Normalize(0.485, 0.229) # Normalize image\n",
    "    ])\n",
    "\n",
    "    # loading the data from the directory I have stored the downloaded FER2013 dataset\n",
    "    train_data = torchvision.datasets.FER2013(root='/content', split = 'train', transform=transform)\n",
    "    print(f\"Length of train data: {len(train_data)}\")\n",
    "    # create dataloaders so that the FER2013 data can be loaded into the model we will implement\n",
    "    train_loader = torch.utils.data.DataLoader(train_data, batch_size=19, shuffle=True, num_workers=2)\n",
    "\n",
    "    return train_loader\n",
    "\n",
    "#this is for data preprocessing and loading with test data\n",
    "def test_pl():\n",
    "    #the transformation we will apply to the images from the FER2013 dataset\n",
    "    transform = transforms.Compose([\n",
    "        # transforms.Grayscale(),\n",
    "        transforms.ToTensor(), # Convert image to tensor\n",
    "        transforms.Normalize(0.485, 0.229) # Normalize image\n",
    "    ])\n",
    "\n",
    "    # loading the data from the directory I have stored the downloaded FER2013 dataset\n",
    "    test_data = torchvision.datasets.FER2013(root='/content', split = 'test' ,  transform=transform)\n",
    "    print(f\"Length of test data: {len(test_data)}\")\n",
    "    # create dataloaders so that the FER2013 data can be loaded into the model we will implement\n",
    "    test_loader = torch.utils.data.DataLoader(test_data, batch_size=1, shuffle=False, num_workers=2)\n",
    "\n",
    "    return test_loader"
   ]
  },
  {
   "cell_type": "code",
   "execution_count": null,
   "metadata": {},
   "outputs": [],
   "source": [
    "class EmotionModel(nn.Module):\n",
    "    def __init__(self):\n",
    "        super(EmotionModel, self).__init__()\n",
    "        self.conv_layers = nn.Sequential(\n",
    "            nn.Conv2d(1, 32, kernel_size=3, padding=1),\n",
    "            nn.ReLU(),\n",
    "            nn.MaxPool2d(kernel_size=2, stride=2),\n",
    "            nn.Conv2d(32, 64, kernel_size=3, padding=1),\n",
    "            nn.ReLU(),\n",
    "            nn.MaxPool2d(kernel_size=2, stride=2),\n",
    "            nn.Conv2d(64, 128, kernel_size=3, padding=1),\n",
    "            nn.ReLU(),\n",
    "            nn.MaxPool2d(kernel_size=2, stride=2)\n",
    "        )\n",
    "        self.fc_layers = nn.Sequential(\n",
    "            nn.Linear(128 * 6 * 6, 128),\n",
    "            nn.ReLU(),\n",
    "            nn.Dropout(0.5),\n",
    "            nn.Linear(128, 7)  # 7 classes for different emotions\n",
    "        )\n",
    "\n",
    "    def forward(self, x):\n",
    "        x = self.conv_layers(x)\n",
    "        x = x.view(x.size(0), -1)\n",
    "        x = self.fc_layers(x)\n",
    "        return x"
   ]
  },
  {
   "cell_type": "code",
   "execution_count": null,
   "metadata": {},
   "outputs": [],
   "source": [
    "def train():\n",
    "    model = EmotionModel().to('cuda')\n",
    "    optimizer = Adam(model.parameters(), lr = 1e-3)\n",
    "    loss_fn = nn.CrossEntropyLoss()\n",
    "\n",
    "    train_set = train_pl()\n",
    "\n",
    "    for epoch in range(50): #train for 50 epochs\n",
    "        for batch in train_set:\n",
    "            X, y = batch\n",
    "            X, y = X.to('cuda'), y.to('cuda')\n",
    "            prediction = model(X)\n",
    "            loss = loss_fn(prediction, y)\n",
    "\n",
    "            optimizer.zero_grad()\n",
    "            loss.backward()\n",
    "            optimizer.step()\n",
    "\n",
    "        print(f\"Epoch {epoch+1}\\n-------------------------------\")\n",
    "        print(f\"\\tloss:{loss}\")\n",
    "        print(\"--------------------------------------------\")\n",
    "\n",
    "    # saving our model to our environment\n",
    "\n",
    "    return model"
   ]
  },
  {
   "cell_type": "code",
   "execution_count": null,
   "metadata": {},
   "outputs": [],
   "source": [
    "trained_model = train()\n",
    "save(trained_model, 'model_MK1')"
   ]
  }
 ],
 "metadata": {
  "language_info": {
   "name": "python"
  },
  "orig_nbformat": 4
 },
 "nbformat": 4,
 "nbformat_minor": 2
}
